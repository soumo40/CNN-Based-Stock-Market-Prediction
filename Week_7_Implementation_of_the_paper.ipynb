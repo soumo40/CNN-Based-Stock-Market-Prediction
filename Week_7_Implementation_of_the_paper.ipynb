{
  "nbformat": 4,
  "nbformat_minor": 0,
  "metadata": {
    "colab": {
      "name": "Week 7: Implementation of the paper.ipynb",
      "provenance": [],
      "authorship_tag": "ABX9TyMTIDcWlFla1BgM+1I0wfu/",
      "include_colab_link": true
    },
    "kernelspec": {
      "name": "python3",
      "display_name": "Python 3"
    },
    "language_info": {
      "name": "python"
    },
    "accelerator": "GPU",
    "gpuClass": "standard"
  },
  "cells": [
    {
      "cell_type": "markdown",
      "metadata": {
        "id": "view-in-github",
        "colab_type": "text"
      },
      "source": [
        "<a href=\"https://colab.research.google.com/github/sautrikc/Seasons-of-Code/blob/main/Week_7_Implementation_of_the_paper.ipynb\" target=\"_parent\"><img src=\"https://colab.research.google.com/assets/colab-badge.svg\" alt=\"Open In Colab\"/></a>"
      ]
    },
    {
      "cell_type": "markdown",
      "source": [
        "# CNN Based Stock Market Prediction"
      ],
      "metadata": {
        "id": "aNNA1QeMKT7f"
      }
    },
    {
      "cell_type": "markdown",
      "source": [
        "In the following section, two different CNN models- 2D CNN and 3D CNN has been used to predict the future stock marekt fluctuations. \n",
        "\n",
        "**2D-CNN-pred :** It postulates that a single model is true for the prediction of future fluctuations in all markets. In simple words, the historical data of any market, when fed to this model will be able to successfully predict the future trends.\n",
        "\n",
        "**3D-CNN-pred:** This approach follows that the mechanisms that dictate the future behaviour of a certain market will be, even slightly, different for different markets. Here, data from all the markets is fed as input to a model designed for a particular market to estimate its future fluctuations.\n",
        "\n",
        "The complete paper can be found at https://www.sciencedirect.com/science/article/pii/S0957417419301915"
      ],
      "metadata": {
        "id": "DmBl__cvJURV"
      }
    },
    {
      "cell_type": "markdown",
      "source": [
        "## 2D-CNN-pred"
      ],
      "metadata": {
        "id": "9yNRUxV4k---"
      }
    },
    {
      "cell_type": "markdown",
      "source": [
        "### 1. Importing important libraries"
      ],
      "metadata": {
        "id": "TPHPxKlnY4F2"
      }
    },
    {
      "cell_type": "code",
      "execution_count": null,
      "metadata": {
        "id": "PC4WJSaqQpvP"
      },
      "outputs": [],
      "source": [
        "import os\n",
        "import random"
      ]
    },
    {
      "cell_type": "code",
      "source": [
        "import numpy as np\n",
        "import pandas as pd\n",
        "import tensorflow as tf\n",
        "from tensorflow.keras import backend as K\n",
        "from tensorflow.keras.layers import Dense, Dropout, Flatten, Conv2D, MaxPool2D, Input\n",
        "from tensorflow.keras.models import Sequential, load_model\n",
        "from tensorflow.keras.callbacks import ModelCheckpoint\n",
        "from sklearn.preprocessing import StandardScaler\n",
        "from sklearn.metrics import accuracy_score, f1_score, mean_absolute_error"
      ],
      "metadata": {
        "id": "9pqqy6bkQqhH"
      },
      "execution_count": null,
      "outputs": []
    },
    {
      "cell_type": "markdown",
      "source": [
        "### 2. Preprocessing"
      ],
      "metadata": {
        "id": "vWDr-ChWZA74"
      }
    },
    {
      "cell_type": "markdown",
      "source": [
        "The data is split into training and testing set. Further, the training set is divided into training and validation."
      ],
      "metadata": {
        "id": "39xOXkSVcBB8"
      }
    },
    {
      "cell_type": "code",
      "source": [
        "#DATADIR = \"./Dataset\"\n",
        "TRAIN_TEST_CUTOFF = '2016-04-21'\n",
        "TRAIN_VALID_RATIO = 0.75"
      ],
      "metadata": {
        "id": "FVov7ydcRuJR"
      },
      "execution_count": null,
      "outputs": []
    },
    {
      "cell_type": "markdown",
      "source": [
        "The data is organised into dictionaries with the keys of the dictionary set to the name of the stock market index. Further the data is scaled using 'Standard Scaler'."
      ],
      "metadata": {
        "id": "dveDqOlMY3DQ"
      }
    },
    {
      "cell_type": "code",
      "source": [
        "data = {}\n",
        "for filename in os.listdir():\n",
        "    if not filename.lower().endswith(\".csv\"):\n",
        "        continue # read only the CSV files\n",
        "    #filepath = os.path.join(DATADIR, filename)\n",
        "    X = pd.read_csv(filename, index_col=\"Date\", parse_dates=True)\n",
        "    # basic preprocessing: get the name, the classification\n",
        "    # Save the target variable as a column in dataframe for easier dropna()\n",
        "    name = X[\"Name\"][0]\n",
        "    del X[\"Name\"]\n",
        "    cols = X.columns\n",
        "    X[\"Target\"] = (X[\"Close\"].pct_change().shift(-1) > 0).astype(int)\n",
        "    X.dropna(inplace=True)\n",
        "    # Fit the standard scaler using the training dataset\n",
        "    index = X.index[X.index < TRAIN_TEST_CUTOFF]\n",
        "    index = index[:int(len(index) * TRAIN_VALID_RATIO)]\n",
        "    scaler = StandardScaler().fit(X.loc[index, cols])\n",
        "    # Save scale transformed dataframe\n",
        "    X[cols] = scaler.transform(X[cols])\n",
        "    data[name] = X"
      ],
      "metadata": {
        "id": "DXvbymH0Y1ux"
      },
      "execution_count": null,
      "outputs": []
    },
    {
      "cell_type": "code",
      "source": [
        "data.keys()"
      ],
      "metadata": {
        "colab": {
          "base_uri": "https://localhost:8080/"
        },
        "id": "Hmo-sWhsc1A2",
        "outputId": "06e1cd84-b741-4ac8-d0fe-67729d623784"
      },
      "execution_count": null,
      "outputs": [
        {
          "output_type": "execute_result",
          "data": {
            "text/plain": [
              "dict_keys(['NYA', 'DJI', 'RUT', 'S&P', 'NASDAQ'])"
            ]
          },
          "metadata": {},
          "execution_count": 5
        }
      ]
    },
    {
      "cell_type": "markdown",
      "source": [
        "A data generator is formed which can produce batches of data when called by our model."
      ],
      "metadata": {
        "id": "nEZ0-absliUc"
      }
    },
    {
      "cell_type": "code",
      "source": [
        "def datagen(data, seq_len, batch_size, targetcol, kind):\n",
        "    \"As a generator to produce samples for Keras model\"\n",
        "    batch = []\n",
        "    while True:\n",
        "        # Pick one dataframe from the pool\n",
        "        key = random.choice(list(data.keys()))\n",
        "        df = data[key]\n",
        "        input_cols = [c for c in df.columns if c != targetcol]\n",
        "        index = df.index[df.index < TRAIN_TEST_CUTOFF]\n",
        "        split = int(len(index) * TRAIN_VALID_RATIO)\n",
        "        if kind == 'train':\n",
        "            index = index[:split]   # range for the training set\n",
        "        elif kind == 'valid':\n",
        "            index = index[split:]   # range for the validation set\n",
        "        # Pick one position, then clip a sequence length\n",
        "        while True:\n",
        "            t = random.choice(index)      # pick one time step\n",
        "            n = (df.index == t).argmax()  # find its position in the dataframe\n",
        "            if n-seq_len+1 < 0:\n",
        "                continue # can't get enough data for one sequence length\n",
        "            frame = df.iloc[n-seq_len+1:n+1]\n",
        "            batch.append([frame[input_cols].values, df.loc[t, targetcol]])\n",
        "            break\n",
        "        # if we get enough for a batch, dispatch\n",
        "        if len(batch) == batch_size:\n",
        "            X, y = zip(*batch)\n",
        "            X, y = np.expand_dims(np.array(X), 3), np.array(y)\n",
        "            yield X, y\n",
        "            batch = []"
      ],
      "metadata": {
        "id": "bKhyYJIMli35"
      },
      "execution_count": null,
      "outputs": []
    },
    {
      "cell_type": "code",
      "source": [
        "os.listdir()"
      ],
      "metadata": {
        "colab": {
          "base_uri": "https://localhost:8080/"
        },
        "id": "talq0Oytacz0",
        "outputId": "182a59c4-c987-4af5-a63c-2fed4633275b"
      },
      "execution_count": null,
      "outputs": [
        {
          "output_type": "execute_result",
          "data": {
            "text/plain": [
              "['.config',\n",
              " 'Processed_NYSE.csv',\n",
              " 'Processed_DJI.csv',\n",
              " 'Processed_RUSSELL.csv',\n",
              " 'Processed_S&P.csv',\n",
              " 'Processed_NASDAQ.csv',\n",
              " 'sample_data']"
            ]
          },
          "metadata": {},
          "execution_count": 7
        }
      ]
    },
    {
      "cell_type": "markdown",
      "source": [
        "### 3. Model Formulation"
      ],
      "metadata": {
        "id": "h9pWg171koFZ"
      }
    },
    {
      "cell_type": "markdown",
      "source": [
        "The model from the paper is implemented. It contains 2 convolution layers with number of filters = 8. The kernel size are (1x82) and (3x1). This is followed by a max pooling layer which reduces the dimension by half. It is followed by another convolution layer of kernel size = (3 x 1) and a Max Pooling layer. Then it is flattened and fed to a Dense layer which returns the output."
      ],
      "metadata": {
        "id": "zFMBE2zAdZ3v"
      }
    },
    {
      "cell_type": "code",
      "source": [
        "def cnnpred_2d(seq_len=60, n_features=82, n_filters=(8,8,8), droprate=0.1):\n",
        "    \"2D-CNNpred model according to the paper\"\n",
        "    model = Sequential([\n",
        "        Input(shape=(seq_len, n_features, 1)),\n",
        "        Conv2D(n_filters[0], kernel_size=(1, n_features), activation=\"relu\"),\n",
        "        Conv2D(n_filters[1], kernel_size=(3,1), activation=\"relu\"),\n",
        "        MaxPool2D(pool_size=(2,1)),\n",
        "        Conv2D(n_filters[2], kernel_size=(3,1), activation=\"relu\"),\n",
        "        MaxPool2D(pool_size=(2,1)),\n",
        "        Flatten(),\n",
        "        Dropout(droprate),\n",
        "        Dense(1, activation=\"sigmoid\")\n",
        "    ])\n",
        "    return model"
      ],
      "metadata": {
        "id": "xONMHr7kaxXy"
      },
      "execution_count": null,
      "outputs": []
    },
    {
      "cell_type": "markdown",
      "source": [
        "The metrics to evaluate our model are F1 score and accuracy. The mean absolute error is used as the loss function."
      ],
      "metadata": {
        "id": "UpiTfC5GfR00"
      }
    },
    {
      "cell_type": "code",
      "source": [
        "from tensorflow.keras import backend as K\n",
        "\n",
        "def recall_m(y_true, y_pred):\n",
        "    true_positives = K.sum(K.round(K.clip(y_true * y_pred, 0, 1)))\n",
        "    possible_positives = K.sum(K.round(K.clip(y_true, 0, 1)))\n",
        "    recall = true_positives / (possible_positives + K.epsilon())\n",
        "    return recall\n",
        "\n",
        "def precision_m(y_true, y_pred):\n",
        "    true_positives = K.sum(K.round(K.clip(y_true * y_pred, 0, 1)))\n",
        "    predicted_positives = K.sum(K.round(K.clip(y_pred, 0, 1)))\n",
        "    precision = true_positives / (predicted_positives + K.epsilon())\n",
        "    return precision\n",
        "\n",
        "def f1_m(y_true, y_pred):\n",
        "    precision = precision_m(y_true, y_pred)\n",
        "    recall = recall_m(y_true, y_pred)\n",
        "    return 2*((precision*recall)/(precision+recall+K.epsilon()))\n",
        "\n",
        "def f1macro(y_true, y_pred):\n",
        "    f_pos = f1_m(y_true, y_pred)\n",
        "    # negative version of the data and prediction\n",
        "    f_neg = f1_m(1-y_true, 1-K.clip(y_pred,0,1))\n",
        "    return (f_pos + f_neg)/2"
      ],
      "metadata": {
        "id": "cWbke25CGwXd"
      },
      "execution_count": null,
      "outputs": []
    },
    {
      "cell_type": "markdown",
      "source": [
        "### 4. Model Training"
      ],
      "metadata": {
        "id": "rYyO2AhckuoR"
      }
    },
    {
      "cell_type": "code",
      "source": [
        "seq_len = 60\n",
        "batch_size = 128\n",
        "n_epochs = 20\n",
        "n_features = 82\n",
        " \n",
        "# Produce CNNpred as a binary classification problem\n",
        "model = cnnpred_2d(seq_len, n_features)\n",
        "model.compile(optimizer=\"adam\", loss=\"mae\", metrics=[\"acc\", f1macro])\n",
        "model.summary()  # print model structure to console\n",
        " \n",
        "# Set up callbacks and fit the model\n",
        "# We use custom validation score f1macro() and hence monitor for \"val_f1macro\"\n",
        "checkpoint_path = \"./cp2d-{epoch}-{val_f1macro:.2f}.h5\"\n",
        "callbacks = [\n",
        "    ModelCheckpoint(checkpoint_path,\n",
        "                    monitor='val_f1macro', mode=\"max\",\n",
        "                    verbose=0, save_best_only=True, save_weights_only=False, save_freq=\"epoch\")\n",
        "]\n",
        "model.fit(datagen(data, seq_len, batch_size, \"Target\", \"train\"),\n",
        "          validation_data=datagen(data, seq_len, batch_size, \"Target\", \"valid\"),\n",
        "          epochs=n_epochs, steps_per_epoch=400, validation_steps=10, verbose=1, callbacks=callbacks)"
      ],
      "metadata": {
        "colab": {
          "base_uri": "https://localhost:8080/"
        },
        "id": "16p2PTH4ISQk",
        "outputId": "6ad50af0-2a38-442d-8ff9-e46ef294060c"
      },
      "execution_count": null,
      "outputs": [
        {
          "output_type": "stream",
          "name": "stdout",
          "text": [
            "Model: \"sequential\"\n",
            "_________________________________________________________________\n",
            " Layer (type)                Output Shape              Param #   \n",
            "=================================================================\n",
            " conv2d (Conv2D)             (None, 60, 1, 8)          664       \n",
            "                                                                 \n",
            " conv2d_1 (Conv2D)           (None, 58, 1, 8)          200       \n",
            "                                                                 \n",
            " max_pooling2d (MaxPooling2D  (None, 29, 1, 8)         0         \n",
            " )                                                               \n",
            "                                                                 \n",
            " conv2d_2 (Conv2D)           (None, 27, 1, 8)          200       \n",
            "                                                                 \n",
            " max_pooling2d_1 (MaxPooling  (None, 13, 1, 8)         0         \n",
            " 2D)                                                             \n",
            "                                                                 \n",
            " flatten (Flatten)           (None, 104)               0         \n",
            "                                                                 \n",
            " dropout (Dropout)           (None, 104)               0         \n",
            "                                                                 \n",
            " dense (Dense)               (None, 1)                 105       \n",
            "                                                                 \n",
            "=================================================================\n",
            "Total params: 1,169\n",
            "Trainable params: 1,169\n",
            "Non-trainable params: 0\n",
            "_________________________________________________________________\n",
            "Epoch 1/20\n",
            "400/400 [==============================] - 64s 128ms/step - loss: 0.4119 - acc: 0.6019 - f1macro: 0.4823 - val_loss: 0.4793 - val_acc: 0.5258 - val_f1macro: 0.4297\n",
            "Epoch 2/20\n",
            "400/400 [==============================] - 52s 129ms/step - loss: 0.2844 - acc: 0.7416 - f1macro: 0.7192 - val_loss: 0.4589 - val_acc: 0.5539 - val_f1macro: 0.5134\n",
            "Epoch 3/20\n",
            "400/400 [==============================] - 51s 127ms/step - loss: 0.2347 - acc: 0.7829 - f1macro: 0.7714 - val_loss: 0.4844 - val_acc: 0.5180 - val_f1macro: 0.4744\n",
            "Epoch 4/20\n",
            "400/400 [==============================] - 52s 130ms/step - loss: 0.2084 - acc: 0.8056 - f1macro: 0.7969 - val_loss: 0.4806 - val_acc: 0.5203 - val_f1macro: 0.4839\n",
            "Epoch 5/20\n",
            "400/400 [==============================] - 51s 128ms/step - loss: 0.1870 - acc: 0.8249 - f1macro: 0.8176 - val_loss: 0.4696 - val_acc: 0.5281 - val_f1macro: 0.5005\n",
            "Epoch 6/20\n",
            "400/400 [==============================] - 50s 124ms/step - loss: 0.1810 - acc: 0.8284 - f1macro: 0.8212 - val_loss: 0.4845 - val_acc: 0.5109 - val_f1macro: 0.4860\n",
            "Epoch 7/20\n",
            "400/400 [==============================] - 50s 126ms/step - loss: 0.1754 - acc: 0.8319 - f1macro: 0.8247 - val_loss: 0.4641 - val_acc: 0.5352 - val_f1macro: 0.5064\n",
            "Epoch 8/20\n",
            "400/400 [==============================] - 49s 124ms/step - loss: 0.1725 - acc: 0.8343 - f1macro: 0.8271 - val_loss: 0.4829 - val_acc: 0.5156 - val_f1macro: 0.4913\n",
            "Epoch 9/20\n",
            "400/400 [==============================] - 50s 125ms/step - loss: 0.1687 - acc: 0.8372 - f1macro: 0.8310 - val_loss: 0.4813 - val_acc: 0.5141 - val_f1macro: 0.4898\n",
            "Epoch 10/20\n",
            "400/400 [==============================] - 49s 124ms/step - loss: 0.1609 - acc: 0.8451 - f1macro: 0.8389 - val_loss: 0.4508 - val_acc: 0.5461 - val_f1macro: 0.5296\n",
            "Epoch 11/20\n",
            "400/400 [==============================] - 49s 124ms/step - loss: 0.1605 - acc: 0.8445 - f1macro: 0.8382 - val_loss: 0.4633 - val_acc: 0.5336 - val_f1macro: 0.5077\n",
            "Epoch 12/20\n",
            "400/400 [==============================] - 50s 125ms/step - loss: 0.1561 - acc: 0.8485 - f1macro: 0.8425 - val_loss: 0.4672 - val_acc: 0.5312 - val_f1macro: 0.5066\n",
            "Epoch 13/20\n",
            "400/400 [==============================] - 49s 123ms/step - loss: 0.1537 - acc: 0.8512 - f1macro: 0.8452 - val_loss: 0.4701 - val_acc: 0.5297 - val_f1macro: 0.5151\n",
            "Epoch 14/20\n",
            "400/400 [==============================] - 50s 125ms/step - loss: 0.1553 - acc: 0.8486 - f1macro: 0.8429 - val_loss: 0.4753 - val_acc: 0.5203 - val_f1macro: 0.5038\n",
            "Epoch 15/20\n",
            "400/400 [==============================] - 49s 124ms/step - loss: 0.1526 - acc: 0.8509 - f1macro: 0.8451 - val_loss: 0.4598 - val_acc: 0.5391 - val_f1macro: 0.5217\n",
            "Epoch 16/20\n",
            "400/400 [==============================] - 51s 127ms/step - loss: 0.1524 - acc: 0.8511 - f1macro: 0.8452 - val_loss: 0.4626 - val_acc: 0.5352 - val_f1macro: 0.5205\n",
            "Epoch 17/20\n",
            "400/400 [==============================] - 50s 126ms/step - loss: 0.1506 - acc: 0.8534 - f1macro: 0.8473 - val_loss: 0.4654 - val_acc: 0.5352 - val_f1macro: 0.5179\n",
            "Epoch 18/20\n",
            "400/400 [==============================] - 49s 124ms/step - loss: 0.1510 - acc: 0.8518 - f1macro: 0.8457 - val_loss: 0.4680 - val_acc: 0.5297 - val_f1macro: 0.5185\n",
            "Epoch 19/20\n",
            "400/400 [==============================] - 50s 125ms/step - loss: 0.1505 - acc: 0.8526 - f1macro: 0.8466 - val_loss: 0.4664 - val_acc: 0.5336 - val_f1macro: 0.5237\n",
            "Epoch 20/20\n",
            "400/400 [==============================] - 50s 126ms/step - loss: 0.1486 - acc: 0.8541 - f1macro: 0.8486 - val_loss: 0.4543 - val_acc: 0.5445 - val_f1macro: 0.5242\n"
          ]
        },
        {
          "output_type": "execute_result",
          "data": {
            "text/plain": [
              "<keras.callbacks.History at 0x7f4ea6377710>"
            ]
          },
          "metadata": {},
          "execution_count": 10
        }
      ]
    },
    {
      "cell_type": "markdown",
      "source": [
        "A data generator for the test set is also prepared. The mean absolute error, accuracy and F1 score are measured and reported below."
      ],
      "metadata": {
        "id": "UYGBtI_igDLI"
      }
    },
    {
      "cell_type": "markdown",
      "source": [
        "### 5. Model Testing"
      ],
      "metadata": {
        "id": "tjtf9Tcukzo5"
      }
    },
    {
      "cell_type": "code",
      "source": [
        "def testgen(data, seq_len, targetcol):\n",
        "    \"Return array of all test samples\"\n",
        "    batch = []\n",
        "    for key, df in data.items():\n",
        "        input_cols = [c for c in df.columns if c != targetcol]\n",
        "        # find the start of test sample\n",
        "        t = df.index[df.index >= TRAIN_TEST_CUTOFF][0]\n",
        "        n = (df.index == t).argmax()\n",
        "        for i in range(n+1, len(df)+1):\n",
        "            frame = df.iloc[i-seq_len:i]\n",
        "            batch.append([frame[input_cols].values, frame[targetcol][-1]])\n",
        "    X, y = zip(*batch)\n",
        "    return np.expand_dims(np.array(X),3), np.array(y)\n",
        "\n",
        "# Prepare test data\n",
        "test_data, test_target = testgen(data, seq_len, \"Target\")\n",
        "\n",
        "# Test the model\n",
        "test_out = model.predict(test_data)\n",
        "test_pred = (test_out > 0.5).astype(int)\n",
        "print(\"accuracy:\", accuracy_score(test_pred, test_target))\n",
        "print(\"MAE:\", mean_absolute_error(test_pred, test_target))\n",
        "print(\"F1:\", f1_score(test_pred, test_target))"
      ],
      "metadata": {
        "colab": {
          "base_uri": "https://localhost:8080/"
        },
        "id": "EhNM5L20KMKe",
        "outputId": "35d936c8-fdc2-4b03-eff4-af5030b9433d"
      },
      "execution_count": null,
      "outputs": [
        {
          "output_type": "stream",
          "name": "stdout",
          "text": [
            "accuracy: 0.5385365853658537\n",
            "MAE: 0.46146341463414636\n",
            "F1: 0.6446280991735537\n"
          ]
        }
      ]
    },
    {
      "cell_type": "markdown",
      "source": [
        "## 3D-CNN-pred"
      ],
      "metadata": {
        "id": "KGNR8Sr1LJmx"
      }
    },
    {
      "cell_type": "markdown",
      "source": [
        "The paper also mentioned another method of predicting the change in the stock index. It uses data from all the 5 markets to predict the change in stock index for a particular market. The code is presented below."
      ],
      "metadata": {
        "id": "u3UJ-svkgse8"
      }
    },
    {
      "cell_type": "code",
      "source": [
        "import os\n",
        "import random\n",
        "\n",
        "import numpy as np\n",
        "import pandas as pd\n",
        "import tensorflow as tf\n",
        "from tensorflow.keras import backend as K\n",
        "from tensorflow.keras.layers import Dense, Dropout, Flatten, Conv2D, MaxPool2D, Input\n",
        "from tensorflow.keras.models import Sequential, load_model\n",
        "from tensorflow.keras.callbacks import ModelCheckpoint\n",
        "from sklearn.preprocessing import StandardScaler\n",
        "from sklearn.metrics import accuracy_score, f1_score, mean_absolute_error\n",
        "\n",
        "DATADIR = \"./Dataset\"\n",
        "TRAIN_TEST_CUTOFF = '2016-04-21'\n",
        "TRAIN_VALID_RATIO = 0.75\n",
        "\n",
        "# https://datascience.stackexchange.com/questions/45165/how-to-get-accuracy-f1-precision-and-recall-for-a-keras-model\n",
        "# to implement F1 score for validation in a batch\n",
        "def recall_m(y_true, y_pred):\n",
        "    true_positives = K.sum(K.round(K.clip(y_true * y_pred, 0, 1)))\n",
        "    possible_positives = K.sum(K.round(K.clip(y_true, 0, 1)))\n",
        "    recall = true_positives / (possible_positives + K.epsilon())\n",
        "    return recall\n",
        "\n",
        "def precision_m(y_true, y_pred):\n",
        "    true_positives = K.sum(K.round(K.clip(y_true * y_pred, 0, 1)))\n",
        "    predicted_positives = K.sum(K.round(K.clip(y_pred, 0, 1)))\n",
        "    precision = true_positives / (predicted_positives + K.epsilon())\n",
        "    return precision\n",
        "\n",
        "def f1_m(y_true, y_pred):\n",
        "    precision = precision_m(y_true, y_pred)\n",
        "    recall = recall_m(y_true, y_pred)\n",
        "    return 2*((precision*recall)/(precision+recall+K.epsilon()))\n",
        "\n",
        "def f1macro(y_true, y_pred):\n",
        "    f_pos = f1_m(y_true, y_pred)\n",
        "    # negative version of the data and prediction\n",
        "    f_neg = f1_m(1-y_true, 1-K.clip(y_pred,0,1))\n",
        "    return (f_pos + f_neg)/2\n",
        "\n",
        "def cnnpred_3d(seq_len=60, n_stocks=5, n_features=82, n_filters=(8,8,8), droprate=0.1):\n",
        "    \"3D-CNNpred model according to the paper\"\n",
        "    model = Sequential([\n",
        "        Input(shape=(n_stocks, seq_len, n_features)),\n",
        "        Conv2D(n_filters[0], kernel_size=(1,1), activation=\"relu\", data_format=\"channels_last\"),\n",
        "        Conv2D(n_filters[1], kernel_size=(n_stocks,3), activation=\"relu\"),\n",
        "        MaxPool2D(pool_size=(1,2)),\n",
        "        Conv2D(n_filters[2], kernel_size=(1,3), activation=\"relu\"),\n",
        "        MaxPool2D(pool_size=(1,2)),\n",
        "        Flatten(),\n",
        "        Dropout(droprate),\n",
        "        Dense(1, activation=\"sigmoid\")\n",
        "    ])\n",
        "    return model\n",
        "\n",
        "def datagen(data, seq_len, batch_size, target_index, targetcol, kind):\n",
        "    \"As a generator to produce samples for Keras model\"\n",
        "    # Learn about the data's features and time axis\n",
        "    input_cols = [c for c in data.columns if c[0] != targetcol]\n",
        "    tickers = sorted(set(c for _,c in input_cols))\n",
        "    n_features = len(input_cols) // len(tickers)\n",
        "    index = data.index[data.index < TRAIN_TEST_CUTOFF]\n",
        "    split = int(len(index) * TRAIN_VALID_RATIO)\n",
        "    assert split > seq_len, \"Training data too small for sequence length {}\".format(seq_len)\n",
        "    if kind == \"train\":\n",
        "        index = index[:split]   # range for the training set\n",
        "    elif kind == 'valid':\n",
        "        index = index[split:]   # range for the validation set\n",
        "    else:\n",
        "        raise NotImplementedError\n",
        "    # Infinite loop to generate a batch\n",
        "    batch = []\n",
        "    while True:\n",
        "        # Pick one position, then clip a sequence length\n",
        "        while True:\n",
        "            t = random.choice(index)\n",
        "            n = (data.index == t).argmax()\n",
        "            if n-seq_len+1 < 0:\n",
        "                continue # this sample is not enough for one sequence length\n",
        "            frame = data.iloc[n-seq_len+1:n+1][input_cols]\n",
        "            # convert frame with two level of indices into 3D array\n",
        "            shape = (len(tickers), len(frame), n_features)\n",
        "            X = np.full(shape, np.nan)\n",
        "            for i,ticker in enumerate(tickers):\n",
        "                X[i] = frame.xs(ticker, axis=1, level=1).values\n",
        "            batch.append([X, data[targetcol][target_index][t]])\n",
        "            break\n",
        "        # if we get enough for a batch, dispatch\n",
        "        if len(batch) == batch_size:\n",
        "            X, y = zip(*batch)\n",
        "            yield np.array(X), np.array(y)\n",
        "            batch = []\n",
        "\n",
        "def testgen(data, seq_len, target_index, targetcol):\n",
        "    \"Return array of all test samples\"\n",
        "    input_cols = [c for c in data.columns if c[0] != targetcol]\n",
        "    tickers = sorted(set(c for _,c in input_cols))\n",
        "    n_features = len(input_cols) // len(tickers)\n",
        "    t = data.index[data.index >= TRAIN_TEST_CUTOFF][0]\n",
        "    n = (data.index == t).argmax()\n",
        "    batch = []\n",
        "    for i in range(n+1, len(data)+1):\n",
        "        # Clip a window of seq_len ends at row position i-1\n",
        "        frame = data.iloc[i-seq_len:i]\n",
        "        target = frame[targetcol][target_index][-1]\n",
        "        frame = frame[input_cols]\n",
        "        # convert frame with two level of indices into 3D array\n",
        "        shape = (len(tickers), len(frame), n_features)\n",
        "        X = np.full(shape, np.nan)\n",
        "        for i,ticker in enumerate(tickers):\n",
        "            X[i] = frame.xs(ticker, axis=1, level=1).values\n",
        "        batch.append([X, target])\n",
        "    X, y = zip(*batch)\n",
        "    return np.array(X), np.array(y)\n",
        "\n",
        "# Read data into pandas DataFrames\n",
        "data = {}\n",
        "for filename in os.listdir():\n",
        "    if not filename.lower().endswith(\".csv\"):\n",
        "        continue # read only the CSV files\n",
        "    #filepath = os.path.join(DATADIR, filename)\n",
        "    X = pd.read_csv(filename, index_col=\"Date\", parse_dates=True)\n",
        "    # basic preprocessing: get the name, the classification\n",
        "    # Save the target variable as a column in dataframe for easier dropna()\n",
        "    name = X[\"Name\"][0]\n",
        "    del X[\"Name\"]\n",
        "    cols = X.columns\n",
        "    X[\"Target\"] = (X[\"Close\"].pct_change().shift(-1) > 0).astype(int)\n",
        "    X.dropna(inplace=True)\n",
        "    # Fit the standard scaler using the training dataset\n",
        "    index = X.index[X.index < TRAIN_TEST_CUTOFF]\n",
        "    index = index[:int(len(index) * TRAIN_VALID_RATIO)]\n",
        "    scaler = StandardScaler().fit(X.loc[index, cols])\n",
        "    # Save scale transformed dataframe\n",
        "    X[cols] = scaler.transform(X[cols])\n",
        "    data[name] = X\n",
        "\n",
        "# Transform data into 3D dataframe (multilevel columns)\n",
        "for key, df in data.items():\n",
        "    df.columns = pd.MultiIndex.from_product([df.columns, [key]])\n",
        "data = pd.concat(data.values(), axis=1)\n",
        "\n",
        "seq_len = 60\n",
        "batch_size = 128\n",
        "n_epochs = 20\n",
        "n_features = 82\n",
        "n_stocks = 5\n",
        "\n",
        "# Produce CNNpred as a binary classification problem\n",
        "model = cnnpred_3d(seq_len, n_stocks, n_features)\n",
        "model.compile(optimizer=\"adam\", loss=\"mae\", metrics=[\"acc\", f1macro])\n",
        "model.summary() # print model structure to console\n",
        "\n",
        "# Set up callbacks and fit the model\n",
        "# We use custom validation score f1macro() and hence monitor for \"val_f1macro\"\n",
        "checkpoint_path = \"./cp3d-{epoch}-{val_f1macro:.2f}.h5\"\n",
        "callbacks = [\n",
        "    ModelCheckpoint(checkpoint_path,\n",
        "                    monitor='val_f1macro', mode=\"max\",\n",
        "                    verbose=0, save_best_only=True, save_weights_only=False, save_freq=\"epoch\")\n",
        "]\n",
        "\n",
        "model.fit(datagen(data, seq_len, batch_size, \"DJI\", \"Target\", \"train\"),\n",
        "          validation_data=datagen(data, seq_len, batch_size, \"DJI\", \"Target\", \"valid\"),\n",
        "          epochs=n_epochs, steps_per_epoch=400, validation_steps=10, verbose=1, callbacks=callbacks)\n",
        "\n",
        "# Prepare test data\n",
        "test_data, test_target = testgen(data, seq_len, \"DJI\", \"Target\")\n",
        "\n",
        "# Test the model\n",
        "test_out = model.predict(test_data)\n",
        "test_pred = (test_out > 0.5).astype(int)\n",
        "print(\"accuracy:\", accuracy_score(test_pred, test_target))\n",
        "print(\"MAE:\", mean_absolute_error(test_pred, test_target))\n",
        "print(\"F1:\", f1_score(test_pred, test_target))"
      ],
      "metadata": {
        "colab": {
          "base_uri": "https://localhost:8080/"
        },
        "id": "fXMT8H00LJMi",
        "outputId": "13dd1d0b-7267-4e87-b1e9-34b08c1be0b5"
      },
      "execution_count": null,
      "outputs": [
        {
          "output_type": "stream",
          "name": "stdout",
          "text": [
            "Model: \"sequential_1\"\n",
            "_________________________________________________________________\n",
            " Layer (type)                Output Shape              Param #   \n",
            "=================================================================\n",
            " conv2d_3 (Conv2D)           (None, 5, 60, 8)          664       \n",
            "                                                                 \n",
            " conv2d_4 (Conv2D)           (None, 1, 58, 8)          968       \n",
            "                                                                 \n",
            " max_pooling2d_2 (MaxPooling  (None, 1, 29, 8)         0         \n",
            " 2D)                                                             \n",
            "                                                                 \n",
            " conv2d_5 (Conv2D)           (None, 1, 27, 8)          200       \n",
            "                                                                 \n",
            " max_pooling2d_3 (MaxPooling  (None, 1, 13, 8)         0         \n",
            " 2D)                                                             \n",
            "                                                                 \n",
            " flatten_1 (Flatten)         (None, 104)               0         \n",
            "                                                                 \n",
            " dropout_1 (Dropout)         (None, 104)               0         \n",
            "                                                                 \n",
            " dense_1 (Dense)             (None, 1)                 105       \n",
            "                                                                 \n",
            "=================================================================\n",
            "Total params: 1,937\n",
            "Trainable params: 1,937\n",
            "Non-trainable params: 0\n",
            "_________________________________________________________________\n",
            "Epoch 1/20\n",
            "400/400 [==============================] - 353s 881ms/step - loss: 0.4394 - acc: 0.5640 - f1macro: 0.3786 - val_loss: 0.4902 - val_acc: 0.4961 - val_f1macro: 0.3958\n",
            "Epoch 2/20\n",
            "400/400 [==============================] - 344s 863ms/step - loss: 0.2341 - acc: 0.7912 - f1macro: 0.7772 - val_loss: 0.4528 - val_acc: 0.5453 - val_f1macro: 0.5343\n",
            "Epoch 3/20\n",
            "400/400 [==============================] - 348s 871ms/step - loss: 0.1585 - acc: 0.8554 - f1macro: 0.8481 - val_loss: 0.4657 - val_acc: 0.5375 - val_f1macro: 0.5199\n",
            "Epoch 4/20\n",
            "400/400 [==============================] - 343s 859ms/step - loss: 0.1358 - acc: 0.8733 - f1macro: 0.8678 - val_loss: 0.4514 - val_acc: 0.5617 - val_f1macro: 0.5492\n",
            "Epoch 5/20\n",
            "400/400 [==============================] - 344s 861ms/step - loss: 0.1229 - acc: 0.8849 - f1macro: 0.8806 - val_loss: 0.4605 - val_acc: 0.5422 - val_f1macro: 0.5278\n",
            "Epoch 6/20\n",
            "400/400 [==============================] - 340s 853ms/step - loss: 0.1111 - acc: 0.8954 - f1macro: 0.8916 - val_loss: 0.4670 - val_acc: 0.5430 - val_f1macro: 0.5347\n",
            "Epoch 7/20\n",
            "400/400 [==============================] - 342s 857ms/step - loss: 0.1010 - acc: 0.9051 - f1macro: 0.9025 - val_loss: 0.4644 - val_acc: 0.5539 - val_f1macro: 0.5469\n",
            "Epoch 8/20\n",
            "400/400 [==============================] - 340s 852ms/step - loss: 0.0943 - acc: 0.9111 - f1macro: 0.9084 - val_loss: 0.4821 - val_acc: 0.5305 - val_f1macro: 0.5189\n",
            "Epoch 9/20\n",
            "400/400 [==============================] - 340s 853ms/step - loss: 0.0893 - acc: 0.9149 - f1macro: 0.9123 - val_loss: 0.4948 - val_acc: 0.5008 - val_f1macro: 0.4960\n",
            "Epoch 10/20\n",
            "400/400 [==============================] - 340s 851ms/step - loss: 0.0842 - acc: 0.9193 - f1macro: 0.9168 - val_loss: 0.5235 - val_acc: 0.4711 - val_f1macro: 0.4654\n",
            "Epoch 11/20\n",
            "400/400 [==============================] - 340s 852ms/step - loss: 0.0794 - acc: 0.9242 - f1macro: 0.9220 - val_loss: 0.4975 - val_acc: 0.5000 - val_f1macro: 0.4889\n",
            "Epoch 12/20\n",
            "400/400 [==============================] - 339s 850ms/step - loss: 0.0796 - acc: 0.9241 - f1macro: 0.9219 - val_loss: 0.4888 - val_acc: 0.5086 - val_f1macro: 0.5023\n",
            "Epoch 13/20\n",
            "400/400 [==============================] - 340s 851ms/step - loss: 0.0751 - acc: 0.9276 - f1macro: 0.9258 - val_loss: 0.5095 - val_acc: 0.4945 - val_f1macro: 0.4903\n",
            "Epoch 14/20\n",
            "400/400 [==============================] - 342s 856ms/step - loss: 0.0740 - acc: 0.9287 - f1macro: 0.9267 - val_loss: 0.5312 - val_acc: 0.4625 - val_f1macro: 0.4547\n",
            "Epoch 15/20\n",
            "400/400 [==============================] - 341s 854ms/step - loss: 0.0735 - acc: 0.9290 - f1macro: 0.9269 - val_loss: 0.5278 - val_acc: 0.4641 - val_f1macro: 0.4588\n",
            "Epoch 16/20\n",
            "400/400 [==============================] - 340s 851ms/step - loss: 0.0708 - acc: 0.9318 - f1macro: 0.9298 - val_loss: 0.5209 - val_acc: 0.4805 - val_f1macro: 0.4771\n",
            "Epoch 17/20\n",
            "400/400 [==============================] - 339s 851ms/step - loss: 0.0701 - acc: 0.9322 - f1macro: 0.9302 - val_loss: 0.5098 - val_acc: 0.4938 - val_f1macro: 0.4901\n",
            "Epoch 18/20\n",
            "400/400 [==============================] - 339s 851ms/step - loss: 0.0676 - acc: 0.9345 - f1macro: 0.9327 - val_loss: 0.4916 - val_acc: 0.5039 - val_f1macro: 0.5011\n",
            "Epoch 19/20\n",
            "400/400 [==============================] - 339s 850ms/step - loss: 0.0681 - acc: 0.9340 - f1macro: 0.9322 - val_loss: 0.5084 - val_acc: 0.4992 - val_f1macro: 0.4923\n",
            "Epoch 20/20\n",
            "400/400 [==============================] - 339s 851ms/step - loss: 0.0689 - acc: 0.9332 - f1macro: 0.9315 - val_loss: 0.5185 - val_acc: 0.4805 - val_f1macro: 0.4700\n",
            "accuracy: 0.4878048780487805\n",
            "MAE: 0.5121951219512195\n",
            "F1: 0.46700507614213194\n"
          ]
        }
      ]
    },
    {
      "cell_type": "markdown",
      "source": [
        "The F1 score is lower in this case and hence the performance of 2D CNN is better."
      ],
      "metadata": {
        "id": "_4VuY-79hSz8"
      }
    }
  ]
}