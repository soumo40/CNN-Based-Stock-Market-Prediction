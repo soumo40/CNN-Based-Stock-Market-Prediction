{
  "nbformat": 4,
  "nbformat_minor": 0,
  "metadata": {
    "colab": {
      "name": "Week 10: Incorporating additional markets .ipynb",
      "provenance": [],
      "collapsed_sections": [],
      "authorship_tag": "ABX9TyNwUDqbCVaLHnaZUQ2A5Qif",
      "include_colab_link": true
    },
    "kernelspec": {
      "name": "python3",
      "display_name": "Python 3"
    },
    "language_info": {
      "name": "python"
    },
    "accelerator": "GPU",
    "gpuClass": "standard"
  },
  "cells": [
    {
      "cell_type": "markdown",
      "metadata": {
        "id": "view-in-github",
        "colab_type": "text"
      },
      "source": [
        "<a href=\"https://colab.research.google.com/github/sautrikc/Seasons-of-Code/blob/main/Week_10_Incorporating_additional_markets_.ipynb\" target=\"_parent\"><img src=\"https://colab.research.google.com/assets/colab-badge.svg\" alt=\"Open In Colab\"/></a>"
      ]
    },
    {
      "cell_type": "markdown",
      "source": [
        "# CNN Based Stock Market Prediction"
      ],
      "metadata": {
        "id": "F3nrtIpENb0z"
      }
    },
    {
      "cell_type": "markdown",
      "source": [
        "In the following section, a modified version of AlexNet is applied on data including market information of NSE."
      ],
      "metadata": {
        "id": "3mpu18ejNf0d"
      }
    },
    {
      "cell_type": "markdown",
      "source": [
        "## 2D CNN"
      ],
      "metadata": {
        "id": "9yNRUxV4k---"
      }
    },
    {
      "cell_type": "markdown",
      "source": [
        "### 1. Importing important libraries"
      ],
      "metadata": {
        "id": "TPHPxKlnY4F2"
      }
    },
    {
      "cell_type": "code",
      "execution_count": 1,
      "metadata": {
        "id": "PC4WJSaqQpvP"
      },
      "outputs": [],
      "source": [
        "import os\n",
        "import random"
      ]
    },
    {
      "cell_type": "code",
      "source": [
        "import numpy as np\n",
        "import pandas as pd\n",
        "import tensorflow as tf\n",
        "from tensorflow.keras import backend as K\n",
        "from tensorflow.keras.layers import Dense, Dropout, Flatten, Conv2D, MaxPool2D, Input\n",
        "from tensorflow.keras.models import Sequential, load_model\n",
        "from tensorflow.keras.callbacks import ModelCheckpoint\n",
        "from sklearn.preprocessing import StandardScaler\n",
        "from sklearn.metrics import accuracy_score, f1_score, mean_absolute_error"
      ],
      "metadata": {
        "id": "9pqqy6bkQqhH"
      },
      "execution_count": 2,
      "outputs": []
    },
    {
      "cell_type": "markdown",
      "source": [
        "### 2. Preprocessing"
      ],
      "metadata": {
        "id": "vWDr-ChWZA74"
      }
    },
    {
      "cell_type": "markdown",
      "source": [
        "The data is split into training and testing set. Further, the training set is divided into training and validation."
      ],
      "metadata": {
        "id": "39xOXkSVcBB8"
      }
    },
    {
      "cell_type": "code",
      "source": [
        "#DATADIR = \"./Dataset\"\n",
        "TRAIN_TEST_CUTOFF = '2016-04-21'\n",
        "TRAIN_VALID_RATIO = 0.75"
      ],
      "metadata": {
        "id": "FVov7ydcRuJR"
      },
      "execution_count": 3,
      "outputs": []
    },
    {
      "cell_type": "markdown",
      "source": [
        "The data is organised into dictionaries with the keys of the dictionary set to the name of the stock market index. Further the data is scaled using 'Standard Scaler'."
      ],
      "metadata": {
        "id": "dveDqOlMY3DQ"
      }
    },
    {
      "cell_type": "code",
      "source": [
        "data = {}\n",
        "for filename in os.listdir():\n",
        "    if not filename.lower().endswith(\".csv\"):\n",
        "        continue # read only the CSV files\n",
        "    #filepath = os.path.join(DATADIR, filename)\n",
        "    X = pd.read_csv(filename, index_col=\"Date\", parse_dates=True)\n",
        "    # basic preprocessing: get the name, the classification\n",
        "    # Save the target variable as a column in dataframe for easier dropna()\n",
        "    name = X[\"Name\"][0]\n",
        "    del X[\"Name\"]\n",
        "    cols = X.columns\n",
        "    X[\"Target\"] = (X[\"Close\"].pct_change().shift(-1) > 0).astype(int)\n",
        "    X.dropna(inplace=True)\n",
        "    # Fit the standard scaler using the training dataset\n",
        "    index = X.index[X.index < TRAIN_TEST_CUTOFF]\n",
        "    index = index[:int(len(index) * TRAIN_VALID_RATIO)]\n",
        "    scaler = StandardScaler().fit(X.loc[index, cols])\n",
        "    # Save scale transformed dataframe\n",
        "    X[cols] = scaler.transform(X[cols])\n",
        "    data[name] = X"
      ],
      "metadata": {
        "id": "DXvbymH0Y1ux"
      },
      "execution_count": 4,
      "outputs": []
    },
    {
      "cell_type": "code",
      "source": [
        "data.keys()"
      ],
      "metadata": {
        "colab": {
          "base_uri": "https://localhost:8080/"
        },
        "id": "Hmo-sWhsc1A2",
        "outputId": "f33ad340-52f6-41ba-ab30-803104b3643d"
      },
      "execution_count": 5,
      "outputs": [
        {
          "output_type": "execute_result",
          "data": {
            "text/plain": [
              "dict_keys(['NASDAQ', 'S&P', 'DJI', 'NSE', 'NYA', 'RUT'])"
            ]
          },
          "metadata": {},
          "execution_count": 5
        }
      ]
    },
    {
      "cell_type": "markdown",
      "source": [
        "A data generator is formed which can produce batches of data when called by our model."
      ],
      "metadata": {
        "id": "nEZ0-absliUc"
      }
    },
    {
      "cell_type": "code",
      "source": [
        "def datagen(data, seq_len, batch_size, targetcol, kind):\n",
        "    \"As a generator to produce samples for Keras model\"\n",
        "    batch = []\n",
        "    while True:\n",
        "        # Pick one dataframe from the pool\n",
        "        key = random.choice(list(data.keys()))\n",
        "        df = data[key]\n",
        "        input_cols = [c for c in df.columns if c != targetcol]\n",
        "        index = df.index[df.index < TRAIN_TEST_CUTOFF]\n",
        "        split = int(len(index) * TRAIN_VALID_RATIO)\n",
        "        if kind == 'train':\n",
        "            index = index[:split]   # range for the training set\n",
        "        elif kind == 'valid':\n",
        "            index = index[split:]   # range for the validation set\n",
        "        # Pick one position, then clip a sequence length\n",
        "        while True:\n",
        "            t = random.choice(index)      # pick one time step\n",
        "            n = (df.index == t).argmax()  # find its position in the dataframe\n",
        "            if n-seq_len+1 < 0:\n",
        "                continue # can't get enough data for one sequence length\n",
        "            frame = df.iloc[n-seq_len+1:n+1]\n",
        "            batch.append([frame[input_cols].values, df.loc[t, targetcol]])\n",
        "            break\n",
        "        # if we get enough for a batch, dispatch\n",
        "        if len(batch) == batch_size:\n",
        "            X, y = zip(*batch)\n",
        "            X, y = np.expand_dims(np.array(X), 3), np.array(y)\n",
        "            yield X, y\n",
        "            batch = []"
      ],
      "metadata": {
        "id": "bKhyYJIMli35"
      },
      "execution_count": 6,
      "outputs": []
    },
    {
      "cell_type": "code",
      "source": [
        "os.listdir()"
      ],
      "metadata": {
        "colab": {
          "base_uri": "https://localhost:8080/"
        },
        "id": "talq0Oytacz0",
        "outputId": "724539fd-1d15-4a02-e1a3-ae1bf7b7450d"
      },
      "execution_count": 7,
      "outputs": [
        {
          "output_type": "execute_result",
          "data": {
            "text/plain": [
              "['.config',\n",
              " 'Processed_NASDAQ.csv',\n",
              " 'Processed_S&P.csv',\n",
              " 'Processed_DJI.csv',\n",
              " 'Processed_NSE.csv',\n",
              " 'Processed_NYSE.csv',\n",
              " 'Processed_RUSSELL.csv',\n",
              " 'sample_data']"
            ]
          },
          "metadata": {},
          "execution_count": 7
        }
      ]
    },
    {
      "cell_type": "markdown",
      "source": [
        "### 3. Model Formulation"
      ],
      "metadata": {
        "id": "h9pWg171koFZ"
      }
    },
    {
      "cell_type": "markdown",
      "source": [
        "For my implementation of the AlexNet, I used two convolutional layers of sizes (1x82) and (3x1) with 8 filters. This was followed by a max pooling layer of size (2x1). Then, I followed it with another set of convolutional and max pooling layer, followed by 3 convolutional layers each of size (3x1) and a max pooling layer of size (2x1). This was followed by 3 dense layers of sizes 4096, 4096 and 1. ReLU activation functions was used in all the layers."
      ],
      "metadata": {
        "id": "zFMBE2zAdZ3v"
      }
    },
    {
      "cell_type": "code",
      "source": [
        "def cnnpred_2d(seq_len=60, n_features=82, n_filters=(8,8,8,8,8,8), droprate=0.1):\n",
        "    \"2D-CNNpred model according to the paper\"\n",
        "    model = Sequential([\n",
        "        Input(shape=(seq_len, n_features, 1)),\n",
        "        Conv2D(n_filters[0], kernel_size=(1, n_features), activation=\"relu\"),\n",
        "        Conv2D(n_filters[1], kernel_size=(3,1), activation=\"relu\"),\n",
        "        MaxPool2D(pool_size=(2,1)),\n",
        "        Conv2D(n_filters[2], kernel_size=(3,1), activation=\"relu\"),\n",
        "        MaxPool2D(pool_size=(2,1)),\n",
        "        Conv2D(n_filters[3], kernel_size=(3,1), activation=\"relu\"),\n",
        "        Conv2D(n_filters[4], kernel_size=(3,1), activation=\"relu\"),\n",
        "        Conv2D(n_filters[5], kernel_size=(3,1), activation=\"relu\"),\n",
        "        MaxPool2D(pool_size=(2,1)),\n",
        "        Flatten(),\n",
        "        Dropout(droprate),\n",
        "        Dense(4096, activation=\"relu\"),\n",
        "        Dense(4096, activation=\"relu\"),\n",
        "        Dense(1, activation=\"sigmoid\")\n",
        "    ])\n",
        "    return model"
      ],
      "metadata": {
        "id": "xONMHr7kaxXy"
      },
      "execution_count": 8,
      "outputs": []
    },
    {
      "cell_type": "markdown",
      "source": [
        "The metrics to evaluate our model are F1 score and accuracy. The mean absolute error is used as the loss function."
      ],
      "metadata": {
        "id": "UpiTfC5GfR00"
      }
    },
    {
      "cell_type": "code",
      "source": [
        "from tensorflow.keras import backend as K\n",
        "\n",
        "def recall_m(y_true, y_pred):\n",
        "    true_positives = K.sum(K.round(K.clip(y_true * y_pred, 0, 1)))\n",
        "    possible_positives = K.sum(K.round(K.clip(y_true, 0, 1)))\n",
        "    recall = true_positives / (possible_positives + K.epsilon())\n",
        "    return recall\n",
        "\n",
        "def precision_m(y_true, y_pred):\n",
        "    true_positives = K.sum(K.round(K.clip(y_true * y_pred, 0, 1)))\n",
        "    predicted_positives = K.sum(K.round(K.clip(y_pred, 0, 1)))\n",
        "    precision = true_positives / (predicted_positives + K.epsilon())\n",
        "    return precision\n",
        "\n",
        "def f1_m(y_true, y_pred):\n",
        "    precision = precision_m(y_true, y_pred)\n",
        "    recall = recall_m(y_true, y_pred)\n",
        "    return 2*((precision*recall)/(precision+recall+K.epsilon()))\n",
        "\n",
        "def f1macro(y_true, y_pred):\n",
        "    f_pos = f1_m(y_true, y_pred)\n",
        "    # negative version of the data and prediction\n",
        "    f_neg = f1_m(1-y_true, 1-K.clip(y_pred,0,1))\n",
        "    return (f_pos + f_neg)/2"
      ],
      "metadata": {
        "id": "cWbke25CGwXd"
      },
      "execution_count": 9,
      "outputs": []
    },
    {
      "cell_type": "markdown",
      "source": [
        "### 4. Model Training"
      ],
      "metadata": {
        "id": "rYyO2AhckuoR"
      }
    },
    {
      "cell_type": "code",
      "source": [
        "seq_len = 60\n",
        "batch_size = 128\n",
        "n_epochs = 20\n",
        "n_features = 82\n",
        " \n",
        "# Produce CNNpred as a binary classification problem\n",
        "model = cnnpred_2d(seq_len, n_features)\n",
        "model.compile(optimizer=\"adam\", loss=\"mae\", metrics=[\"acc\", f1macro])\n",
        "model.summary()  # print model structure to console\n",
        " \n",
        "# Set up callbacks and fit the model\n",
        "# We use custom validation score f1macro() and hence monitor for \"val_f1macro\"\n",
        "checkpoint_path = \"./cp2d-{epoch}-{val_f1macro:.2f}.h5\"\n",
        "callbacks = [\n",
        "    ModelCheckpoint(checkpoint_path,\n",
        "                    monitor='val_f1macro', mode=\"max\",\n",
        "                    verbose=0, save_best_only=True, save_weights_only=False, save_freq=\"epoch\")\n",
        "]\n",
        "model.fit(datagen(data, seq_len, batch_size, \"Target\", \"train\"),\n",
        "          validation_data=datagen(data, seq_len, batch_size, \"Target\", \"valid\"),\n",
        "          epochs=n_epochs, steps_per_epoch=400, validation_steps=10, verbose=1, callbacks=callbacks)"
      ],
      "metadata": {
        "colab": {
          "base_uri": "https://localhost:8080/"
        },
        "id": "16p2PTH4ISQk",
        "outputId": "e30f0b91-ded8-487f-fa02-24e6de143a6c"
      },
      "execution_count": 10,
      "outputs": [
        {
          "output_type": "stream",
          "name": "stdout",
          "text": [
            "Model: \"sequential\"\n",
            "_________________________________________________________________\n",
            " Layer (type)                Output Shape              Param #   \n",
            "=================================================================\n",
            " conv2d (Conv2D)             (None, 60, 1, 8)          664       \n",
            "                                                                 \n",
            " conv2d_1 (Conv2D)           (None, 58, 1, 8)          200       \n",
            "                                                                 \n",
            " max_pooling2d (MaxPooling2D  (None, 29, 1, 8)         0         \n",
            " )                                                               \n",
            "                                                                 \n",
            " conv2d_2 (Conv2D)           (None, 27, 1, 8)          200       \n",
            "                                                                 \n",
            " max_pooling2d_1 (MaxPooling  (None, 13, 1, 8)         0         \n",
            " 2D)                                                             \n",
            "                                                                 \n",
            " conv2d_3 (Conv2D)           (None, 11, 1, 8)          200       \n",
            "                                                                 \n",
            " conv2d_4 (Conv2D)           (None, 9, 1, 8)           200       \n",
            "                                                                 \n",
            " conv2d_5 (Conv2D)           (None, 7, 1, 8)           200       \n",
            "                                                                 \n",
            " max_pooling2d_2 (MaxPooling  (None, 3, 1, 8)          0         \n",
            " 2D)                                                             \n",
            "                                                                 \n",
            " flatten (Flatten)           (None, 24)                0         \n",
            "                                                                 \n",
            " dropout (Dropout)           (None, 24)                0         \n",
            "                                                                 \n",
            " dense (Dense)               (None, 4096)              102400    \n",
            "                                                                 \n",
            " dense_1 (Dense)             (None, 4096)              16781312  \n",
            "                                                                 \n",
            " dense_2 (Dense)             (None, 1)                 4097      \n",
            "                                                                 \n",
            "=================================================================\n",
            "Total params: 16,889,473\n",
            "Trainable params: 16,889,473\n",
            "Non-trainable params: 0\n",
            "_________________________________________________________________\n",
            "Epoch 1/20\n",
            "400/400 [==============================] - 66s 133ms/step - loss: 0.4450 - acc: 0.5557 - f1macro: 0.3567 - val_loss: 0.4789 - val_acc: 0.5211 - val_f1macro: 0.3420\n",
            "Epoch 2/20\n",
            "400/400 [==============================] - 52s 131ms/step - loss: 0.4491 - acc: 0.5509 - f1macro: 0.3547 - val_loss: 0.4922 - val_acc: 0.5078 - val_f1macro: 0.3365\n",
            "Epoch 3/20\n",
            "400/400 [==============================] - 52s 129ms/step - loss: 0.4506 - acc: 0.5494 - f1macro: 0.3541 - val_loss: 0.4852 - val_acc: 0.5148 - val_f1macro: 0.3390\n",
            "Epoch 4/20\n",
            "400/400 [==============================] - 53s 134ms/step - loss: 0.4506 - acc: 0.5494 - f1macro: 0.3541 - val_loss: 0.4719 - val_acc: 0.5281 - val_f1macro: 0.3454\n",
            "Epoch 5/20\n",
            "400/400 [==============================] - 53s 132ms/step - loss: 0.4458 - acc: 0.5542 - f1macro: 0.3560 - val_loss: 0.5039 - val_acc: 0.4961 - val_f1macro: 0.3311\n",
            "Epoch 6/20\n",
            "400/400 [==============================] - 53s 133ms/step - loss: 0.4487 - acc: 0.5513 - f1macro: 0.3548 - val_loss: 0.4867 - val_acc: 0.5133 - val_f1macro: 0.3387\n",
            "Epoch 7/20\n",
            "400/400 [==============================] - 52s 131ms/step - loss: 0.4521 - acc: 0.5479 - f1macro: 0.3534 - val_loss: 0.4844 - val_acc: 0.5156 - val_f1macro: 0.3398\n",
            "Epoch 8/20\n",
            "400/400 [==============================] - 53s 133ms/step - loss: 0.4487 - acc: 0.5513 - f1macro: 0.3549 - val_loss: 0.5078 - val_acc: 0.4922 - val_f1macro: 0.3293\n",
            "Epoch 9/20\n",
            "400/400 [==============================] - 53s 133ms/step - loss: 0.4493 - acc: 0.5507 - f1macro: 0.3546 - val_loss: 0.4609 - val_acc: 0.5391 - val_f1macro: 0.3500\n",
            "Epoch 10/20\n",
            "400/400 [==============================] - 52s 131ms/step - loss: 0.4477 - acc: 0.5523 - f1macro: 0.3553 - val_loss: 0.4695 - val_acc: 0.5305 - val_f1macro: 0.3462\n",
            "Epoch 11/20\n",
            "400/400 [==============================] - 54s 134ms/step - loss: 0.4496 - acc: 0.5504 - f1macro: 0.3545 - val_loss: 0.4852 - val_acc: 0.5148 - val_f1macro: 0.3393\n",
            "Epoch 12/20\n",
            "400/400 [==============================] - 53s 134ms/step - loss: 0.4530 - acc: 0.5470 - f1macro: 0.3531 - val_loss: 0.4789 - val_acc: 0.5211 - val_f1macro: 0.3420\n",
            "Epoch 13/20\n",
            "400/400 [==============================] - 52s 131ms/step - loss: 0.4461 - acc: 0.5539 - f1macro: 0.3559 - val_loss: 0.5023 - val_acc: 0.4977 - val_f1macro: 0.3319\n",
            "Epoch 14/20\n",
            "400/400 [==============================] - 53s 133ms/step - loss: 0.4474 - acc: 0.5526 - f1macro: 0.3554 - val_loss: 0.4633 - val_acc: 0.5367 - val_f1macro: 0.3492\n",
            "Epoch 15/20\n",
            "400/400 [==============================] - 55s 137ms/step - loss: 0.4488 - acc: 0.5512 - f1macro: 0.3548 - val_loss: 0.4734 - val_acc: 0.5266 - val_f1macro: 0.3440\n",
            "Epoch 16/20\n",
            "400/400 [==============================] - 53s 132ms/step - loss: 0.4449 - acc: 0.5551 - f1macro: 0.3564 - val_loss: 0.4734 - val_acc: 0.5266 - val_f1macro: 0.3443\n",
            "Epoch 17/20\n",
            "400/400 [==============================] - 52s 131ms/step - loss: 0.4456 - acc: 0.5544 - f1macro: 0.3562 - val_loss: 0.4781 - val_acc: 0.5219 - val_f1macro: 0.3424\n",
            "Epoch 18/20\n",
            "400/400 [==============================] - 52s 130ms/step - loss: 0.4515 - acc: 0.5485 - f1macro: 0.3537 - val_loss: 0.4922 - val_acc: 0.5078 - val_f1macro: 0.3355\n",
            "Epoch 19/20\n",
            "400/400 [==============================] - 54s 134ms/step - loss: 0.4515 - acc: 0.5485 - f1macro: 0.3537 - val_loss: 0.4914 - val_acc: 0.5086 - val_f1macro: 0.3368\n",
            "Epoch 20/20\n",
            "400/400 [==============================] - 53s 132ms/step - loss: 0.4468 - acc: 0.5532 - f1macro: 0.3556 - val_loss: 0.5063 - val_acc: 0.4938 - val_f1macro: 0.3303\n"
          ]
        },
        {
          "output_type": "execute_result",
          "data": {
            "text/plain": [
              "<keras.callbacks.History at 0x7fcdd05b1150>"
            ]
          },
          "metadata": {},
          "execution_count": 10
        }
      ]
    },
    {
      "cell_type": "markdown",
      "source": [
        "A data generator for the test set is also prepared. The mean absolute error, accuracy and F1 score are measured and reported below."
      ],
      "metadata": {
        "id": "UYGBtI_igDLI"
      }
    },
    {
      "cell_type": "code",
      "source": [
        "# Saving the model\n",
        "import pickle\n",
        "with open('CNN_trained_model.pkl', 'wb') as f:\n",
        "    pickle.dump(model, f)"
      ],
      "metadata": {
        "colab": {
          "base_uri": "https://localhost:8080/"
        },
        "id": "E41fbKphjsVz",
        "outputId": "efa577f2-2a36-4fdc-99da-5eeda3fe7591"
      },
      "execution_count": 11,
      "outputs": [
        {
          "output_type": "stream",
          "name": "stdout",
          "text": [
            "INFO:tensorflow:Assets written to: ram://d4476cc5-92d7-46e1-817a-762484085a99/assets\n"
          ]
        }
      ]
    },
    {
      "cell_type": "markdown",
      "source": [
        "### 5. Model Testing"
      ],
      "metadata": {
        "id": "tjtf9Tcukzo5"
      }
    },
    {
      "cell_type": "code",
      "source": [
        "def testgen(data, seq_len, targetcol):\n",
        "    \"Return array of all test samples\"\n",
        "    batch = []\n",
        "    for key, df in data.items():\n",
        "        input_cols = [c for c in df.columns if c != targetcol]\n",
        "        # find the start of test sample\n",
        "        t = df.index[df.index >= TRAIN_TEST_CUTOFF][0]\n",
        "        n = (df.index == t).argmax()\n",
        "        for i in range(n+1, len(df)+1):\n",
        "            frame = df.iloc[i-seq_len:i]\n",
        "            batch.append([frame[input_cols].values, frame[targetcol][-1]])\n",
        "    X, y = zip(*batch)\n",
        "    return np.expand_dims(np.array(X),3), np.array(y)\n",
        "\n",
        "# Prepare test data\n",
        "test_data, test_target = testgen(data, seq_len, \"Target\")\n",
        "\n",
        "# Test the model\n",
        "test_out = model.predict(test_data)\n",
        "test_pred = (test_out > 0.5).astype(int)\n",
        "print(\"accuracy:\", accuracy_score(test_pred, test_target))\n",
        "print(\"MAE:\", mean_absolute_error(test_pred, test_target))\n",
        "print(\"F1:\", f1_score(test_pred, test_target))"
      ],
      "metadata": {
        "colab": {
          "base_uri": "https://localhost:8080/"
        },
        "id": "EhNM5L20KMKe",
        "outputId": "3272b94e-f8d2-484c-a5ea-db7effaed4b7"
      },
      "execution_count": 12,
      "outputs": [
        {
          "output_type": "stream",
          "name": "stdout",
          "text": [
            "accuracy: 0.5353535353535354\n",
            "MAE: 0.46464646464646464\n",
            "F1: 0.6973684210526315\n"
          ]
        }
      ]
    },
    {
      "cell_type": "code",
      "source": [
        ""
      ],
      "metadata": {
        "id": "xWE79p_Mlf0y"
      },
      "execution_count": 12,
      "outputs": []
    }
  ]
}